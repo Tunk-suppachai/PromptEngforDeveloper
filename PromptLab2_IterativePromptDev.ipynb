{
  "nbformat": 4,
  "nbformat_minor": 0,
  "metadata": {
    "colab": {
      "provenance": [],
      "authorship_tag": "ABX9TyO5KhIqow4Z/H5sqNpraL4G",
      "include_colab_link": true
    },
    "kernelspec": {
      "name": "python3",
      "display_name": "Python 3"
    },
    "language_info": {
      "name": "python"
    }
  },
  "cells": [
    {
      "cell_type": "markdown",
      "metadata": {
        "id": "view-in-github",
        "colab_type": "text"
      },
      "source": [
        "<a href=\"https://colab.research.google.com/github/toche7/PromptEngforDeveloper/blob/main/PromptLab2_IterativePromptDev.ipynb\" target=\"_parent\"><img src=\"https://colab.research.google.com/assets/colab-badge.svg\" alt=\"Open In Colab\"/></a>"
      ]
    },
    {
      "cell_type": "markdown",
      "source": [
        "# Iterative Prompt Development\n",
        "\n",
        "ในบทนี้ เราได้ทำการวิเคราะห์และทบทวนปรับปรุง prompt เพื่อสร้างเอกสารทางการตลาดจากเอกสารข้อมูลผลิตภัณฑ์"
      ],
      "metadata": {
        "id": "ZPcwUmbYEMCG"
      }
    },
    {
      "cell_type": "code",
      "execution_count": null,
      "metadata": {
        "id": "rEQ_rjQKeF7B"
      },
      "outputs": [],
      "source": [
        "!pip -q install openai"
      ]
    },
    {
      "cell_type": "code",
      "source": [
        "from openai import OpenAI\n",
        "import os\n",
        "#os.environ[\"OPENAI_API_KEY\"] = 'sk-xxx'\n",
        "#client = OpenAI()\n",
        "from google.colab import userdata\n",
        "os.environ[\"OPENAI_API_KEY\"]  = userdata.get('OPENAI_API_KEY')\n",
        "client = OpenAI()"
      ],
      "metadata": {
        "id": "ZvM3KkoOeJJ9"
      },
      "execution_count": null,
      "outputs": []
    },
    {
      "cell_type": "code",
      "source": [
        "def get_completion(prompt, model=\"gpt-3.5-turbo\"):\n",
        "    messages = [{\"role\": \"user\", \"content\": prompt}]\n",
        "    response = client.chat.completions.create(\n",
        "        model=model,\n",
        "        messages=messages,\n",
        "        temperature= 0.0\n",
        "    )\n",
        "    return response.choices[0].message.content"
      ],
      "metadata": {
        "id": "JvICrSG-eLhF"
      },
      "execution_count": null,
      "outputs": []
    },
    {
      "cell_type": "markdown",
      "source": [
        "Generate a marketing product description from a product fact sheet¶"
      ],
      "metadata": {
        "id": "6sWdBq3YfGsM"
      }
    },
    {
      "cell_type": "code",
      "source": [
        "fact_sheet_chair = \"\"\"\n",
        "OVERVIEW\n",
        "- Part of a beautiful family of mid-century inspired office furniture,\n",
        "including filing cabinets, desks, bookcases, meeting tables, and more.\n",
        "- Several options of shell color and base finishes.\n",
        "- Available with plastic back and front upholstery (SWC-100)\n",
        "or full upholstery (SWC-110) in 10 fabric and 6 leather options.\n",
        "- Base finish options are: stainless steel, matte black,\n",
        "gloss white, or chrome.\n",
        "- Chair is available with or without armrests.\n",
        "- Suitable for home or business settings.\n",
        "- Qualified for contract use.\n",
        "\n",
        "CONSTRUCTION\n",
        "- 5-wheel plastic coated aluminum base.\n",
        "- Pneumatic chair adjust for easy raise/lower action.\n",
        "\n",
        "DIMENSIONS\n",
        "- WIDTH 53 CM | 20.87”\n",
        "- DEPTH 51 CM | 20.08”\n",
        "- HEIGHT 80 CM | 31.50”\n",
        "- SEAT HEIGHT 44 CM | 17.32”\n",
        "- SEAT DEPTH 41 CM | 16.14”\n",
        "\n",
        "OPTIONS\n",
        "- Soft or hard-floor caster options.\n",
        "- Two choices of seat foam densities:\n",
        " medium (1.8 lb/ft3) or high (2.8 lb/ft3)\n",
        "- Armless or 8 position PU armrests\n",
        "\n",
        "MATERIALS\n",
        "SHELL BASE GLIDER\n",
        "- Cast Aluminum with modified nylon PA6/PA66 coating.\n",
        "- Shell thickness: 10 mm.\n",
        "SEAT\n",
        "- HD36 foam\n",
        "\n",
        "COUNTRY OF ORIGIN\n",
        "- Italy\n",
        "\"\"\""
      ],
      "metadata": {
        "id": "TuzXeUDueYSq"
      },
      "execution_count": null,
      "outputs": []
    },
    {
      "cell_type": "code",
      "source": [
        "prompt = f\"\"\"\n",
        "Yor task is to help a marketing team create a\n",
        "description for a retail website of a product based\n",
        "on a technical fact sheet.\n",
        "\n",
        "Write a product description  based on the information\n",
        "provided in the technical specifications delimited by\n",
        "triple backticks.\n",
        "\n",
        "Technical specifications: ```{fact_sheet_chair}```\n",
        "\"\"\"\n",
        "response = get_completion(prompt)\n",
        "print(response)"
      ],
      "metadata": {
        "colab": {
          "base_uri": "https://localhost:8080/"
        },
        "id": "LZ4-TTtOeh2X",
        "outputId": "8a805a88-926f-48d4-8585-2d733b503f18"
      },
      "execution_count": null,
      "outputs": [
        {
          "output_type": "stream",
          "name": "stdout",
          "text": [
            "Introducing our stylish and versatile mid-century inspired office chair, perfect for both home and business settings. This chair is part of a beautiful family of office furniture that includes filing cabinets, desks, bookcases, meeting tables, and more.\n",
            "\n",
            "Customize your chair with several options of shell color and base finishes to match your decor. Choose between plastic back and front upholstery or full upholstery in a variety of fabric and leather options. The chair is available with or without armrests, and the base finish options include stainless steel, matte black, gloss white, or chrome.\n",
            "\n",
            "Constructed with a 5-wheel plastic coated aluminum base and a pneumatic chair adjust for easy raise/lower action, this chair is both durable and functional. The dimensions of the chair are as follows: WIDTH 53 CM | 20.87”, DEPTH 51 CM | 20.08”, HEIGHT 80 CM | 31.50”, SEAT HEIGHT 44 CM | 17.32”, SEAT DEPTH 41 CM | 16.14”.\n",
            "\n",
            "Choose between soft or hard-floor caster options, two seat foam densities (medium or high), and armless or 8 position PU armrests for added comfort. The materials used in the construction of this chair include cast aluminum with modified nylon PA6/PA66 coating for the shell base glider and HD36 foam for the seat.\n",
            "\n",
            "Designed and manufactured in Italy, this chair is not only stylish but also of high quality. Elevate your workspace with our mid-century inspired office chair today!\n"
          ]
        }
      ]
    },
    {
      "cell_type": "markdown",
      "source": [
        "Issue 1: The text is too long"
      ],
      "metadata": {
        "id": "hf6o_rPxfRGz"
      }
    },
    {
      "cell_type": "code",
      "source": [
        "prompt = f\"\"\"\n",
        "Your task is to help a marketing team create a\n",
        "description for a retail website of a product based\n",
        "on a technical fact sheet.\n",
        "\n",
        "Write a product description based on the information\n",
        "provided in the technical specifications delimited by\n",
        "triple backticks.\n",
        "\n",
        "Use at most 50 words.\n",
        "\n",
        "Technical specifications: ```{fact_sheet_chair}```\n",
        "\"\"\"\n",
        "response = get_completion(prompt)\n",
        "print(response)"
      ],
      "metadata": {
        "colab": {
          "base_uri": "https://localhost:8080/"
        },
        "id": "8uaaNmrTerQb",
        "outputId": "ea803c04-d65e-4087-e42d-3b4cb5f78e9d"
      },
      "execution_count": null,
      "outputs": [
        {
          "output_type": "stream",
          "name": "stdout",
          "text": [
            "Introducing our versatile and stylish mid-century inspired office chair. Available in a range of colors and finishes, with options for upholstery and armrests. Perfect for both home and business use, this chair features a durable construction and adjustable height for maximum comfort. Made in Italy.\n"
          ]
        }
      ]
    },
    {
      "cell_type": "code",
      "source": [
        "len(response.split())"
      ],
      "metadata": {
        "colab": {
          "base_uri": "https://localhost:8080/"
        },
        "id": "KDkjgq9he2c8",
        "outputId": "7e16b915-22a1-4a60-f1b3-78220b44600b"
      },
      "execution_count": null,
      "outputs": [
        {
          "output_type": "execute_result",
          "data": {
            "text/plain": [
              "45"
            ]
          },
          "metadata": {},
          "execution_count": 25
        }
      ]
    },
    {
      "cell_type": "markdown",
      "source": [
        "Issue 2. Text focuses on the wrong details"
      ],
      "metadata": {
        "id": "YcYubDSHe_Ao"
      }
    },
    {
      "cell_type": "code",
      "source": [
        "prompt = f\"\"\"\n",
        "Your task is to help a marketing team create a\n",
        "description for a retail website of a product based\n",
        "on a technical fact sheet.\n",
        "\n",
        "Write a product description based on the information\n",
        "provided in the technical specifications delimited by\n",
        "triple backticks.\n",
        "\n",
        "The description is intended for furniture retailers,\n",
        "so should be technical in nature and focus on the\n",
        "materials the product is constructed from.\n",
        "\n",
        "Use at most 50 words.\n",
        "\n",
        "Technical specifications: ```{fact_sheet_chair}```\n",
        "\"\"\"\n",
        "response = get_completion(prompt)\n",
        "print(response)"
      ],
      "metadata": {
        "colab": {
          "base_uri": "https://localhost:8080/"
        },
        "id": "17hcnVKle9ZI",
        "outputId": "01467622-346e-45d7-986a-8fa09d31ab80"
      },
      "execution_count": null,
      "outputs": [
        {
          "output_type": "stream",
          "name": "stdout",
          "text": [
            "Introducing our versatile and stylish office chair, part of a mid-century inspired furniture collection. Constructed with a durable cast aluminum shell and base glider coated with modified nylon. Available in various upholstery options and base finishes. Designed for both home and business settings. Made in Italy.\n"
          ]
        }
      ]
    },
    {
      "cell_type": "code",
      "source": [],
      "metadata": {
        "id": "F3bBVgK0fYVv"
      },
      "execution_count": null,
      "outputs": []
    },
    {
      "cell_type": "markdown",
      "source": [
        "Issue 3. Description needs a table of dimensions"
      ],
      "metadata": {
        "id": "KP4_rgA5fY7n"
      }
    },
    {
      "cell_type": "code",
      "source": [
        "prompt = f\"\"\"\n",
        "Your task is to help a marketing team create a\n",
        "description for a retail website of a product based\n",
        "on a technical fact sheet.\n",
        "\n",
        "Write a product description based on the information\n",
        "provided in the technical specifications delimited by\n",
        "triple backticks.\n",
        "\n",
        "The description is intended for furniture retailers,\n",
        "so should be technical in nature and focus on the\n",
        "materials the product is constructed from.\n",
        "\n",
        "At the end of the description, include every 7-character\n",
        "Product ID in the technical specification.\n",
        "\n",
        "After the description, include a table that gives the\n",
        "product's dimensions. The table should have two columns.\n",
        "In the first column include the name of the dimension.\n",
        "In the second column include the measurements in inches only.\n",
        "\n",
        "Give the table the title 'Product Dimensions'.\n",
        "\n",
        "Technical specifications: ```{fact_sheet_chair}```\n",
        "\"\"\"\n",
        "\n",
        "response = get_completion(prompt)\n",
        "print(response)"
      ],
      "metadata": {
        "colab": {
          "base_uri": "https://localhost:8080/"
        },
        "id": "OlRH0XgmflxJ",
        "outputId": "ec5ec447-53bd-48b0-cc33-45c71588e19c"
      },
      "execution_count": null,
      "outputs": [
        {
          "output_type": "stream",
          "name": "stdout",
          "text": [
            "Introducing our sleek and modern office chair, part of a stunning collection of mid-century inspired furniture. This chair is not only stylish but also highly functional, perfect for both home and business settings. \n",
            "\n",
            "Constructed with a durable 5-wheel plastic coated aluminum base, this chair features a pneumatic adjust for easy raise/lower action. The seat is made with high-quality HD36 foam for maximum comfort and support. The shell base glider is crafted from cast aluminum with a modified nylon PA6/PA66 coating, ensuring durability and longevity. \n",
            "\n",
            "Choose from a variety of shell colors and base finishes, as well as upholstery options in 10 fabric and 6 leather choices. The chair is available with or without armrests, and you can select between soft or hard-floor caster options. \n",
            "\n",
            "Elevate your workspace with this stylish and functional office chair that is designed and made in Italy, meeting the highest standards of quality and craftsmanship.\n",
            "\n",
            "Product IDs: SWC-100, SWC-110\n",
            "\n",
            "Product Dimensions:\n",
            "\n",
            "| Dimension    | Measurement |\n",
            "|--------------|-------------|\n",
            "| WIDTH        | 20.87\"     |\n",
            "| DEPTH        | 20.08\"     |\n",
            "| HEIGHT       | 31.50\"     |\n",
            "| SEAT HEIGHT  | 17.32\"     |\n",
            "| SEAT DEPTH   | 16.14\"     |\n"
          ]
        }
      ]
    },
    {
      "cell_type": "markdown",
      "source": [
        "Finally format as HTML for website display"
      ],
      "metadata": {
        "id": "isnUjtl5Mm8D"
      }
    },
    {
      "cell_type": "code",
      "source": [
        "prompt = f\"\"\"\n",
        "Your task is to help a marketing team create a\n",
        "description for a retail website of a product based\n",
        "on a technical fact sheet.\n",
        "\n",
        "Write a product description based on the information\n",
        "provided in the technical specifications delimited by\n",
        "triple backticks.\n",
        "\n",
        "The description is intended for furniture retailers,\n",
        "so should be technical in nature and focus on the\n",
        "materials the product is constructed from.\n",
        "\n",
        "At the end of the description, include every 7-character\n",
        "Product ID in the technical specification.\n",
        "\n",
        "After the description, include a table that gives the\n",
        "product's dimensions. The table should have two columns.\n",
        "In the first column include the name of the dimension.\n",
        "In the second column include the measurements in inches only.\n",
        "\n",
        "Give the table the title 'Product Dimensions'.\n",
        "\n",
        "Format everything as HTML that can be used in a website.\n",
        "Place the description in a <div> element.\n",
        "\n",
        "Technical specifications: ```{fact_sheet_chair}```\n",
        "\"\"\"\n",
        "\n",
        "response = get_completion(prompt)\n",
        "print(response)"
      ],
      "metadata": {
        "colab": {
          "base_uri": "https://localhost:8080/"
        },
        "id": "0Vqztky4M-3e",
        "outputId": "07c6c045-ac60-455d-a41c-185f5e61b911"
      },
      "execution_count": null,
      "outputs": [
        {
          "output_type": "stream",
          "name": "stdout",
          "text": [
            "<div>\n",
            "<p>This mid-century inspired office chair is a stylish and versatile addition to any workspace. Constructed with a durable cast aluminum shell and base glider coated with modified nylon PA6/PA66, this chair is built to last. The seat is made with high-density HD36 foam for maximum comfort during long hours of work. Available in a variety of shell colors and base finishes, this chair can be customized to fit any aesthetic. Whether for home or business use, this chair is a perfect blend of style and functionality.</p>\n",
            "\n",
            "<p>Product IDs: SWC-100, SWC-110</p>\n",
            "\n",
            "<table>\n",
            "  <caption>Product Dimensions</caption>\n",
            "  <tr>\n",
            "    <td>WIDTH</td>\n",
            "    <td>20.87\"</td>\n",
            "  </tr>\n",
            "  <tr>\n",
            "    <td>DEPTH</td>\n",
            "    <td>20.08\"</td>\n",
            "  </tr>\n",
            "  <tr>\n",
            "    <td>HEIGHT</td>\n",
            "    <td>31.50\"</td>\n",
            "  </tr>\n",
            "  <tr>\n",
            "    <td>SEAT HEIGHT</td>\n",
            "    <td>17.32\"</td>\n",
            "  </tr>\n",
            "  <tr>\n",
            "    <td>SEAT DEPTH</td>\n",
            "    <td>16.14\"</td>\n",
            "  </tr>\n",
            "</table>\n",
            "</div>\n"
          ]
        }
      ]
    },
    {
      "cell_type": "code",
      "source": [
        "from IPython.display import display, HTML"
      ],
      "metadata": {
        "id": "qt1_11fxfv9v"
      },
      "execution_count": null,
      "outputs": []
    },
    {
      "cell_type": "code",
      "source": [
        "display(HTML(response))"
      ],
      "metadata": {
        "id": "MSVQX7ijfzto",
        "outputId": "fc825c2c-0589-494e-a231-5a1442cd32f2",
        "colab": {
          "base_uri": "https://localhost:8080/",
          "height": 245
        }
      },
      "execution_count": null,
      "outputs": [
        {
          "output_type": "display_data",
          "data": {
            "text/plain": [
              "<IPython.core.display.HTML object>"
            ],
            "text/html": [
              "<div>\n",
              "<p>This mid-century inspired office chair is a stylish and versatile addition to any workspace. Constructed with a durable cast aluminum shell and base glider coated with modified nylon PA6/PA66, this chair is built to last. The seat is made with high-density HD36 foam for maximum comfort during long hours of work. Available in a variety of shell colors and base finishes, this chair can be customized to fit any aesthetic. Whether for home or business use, this chair is a perfect blend of style and functionality.</p>\n",
              "\n",
              "<p>Product IDs: SWC-100, SWC-110</p>\n",
              "\n",
              "<table>\n",
              "  <caption>Product Dimensions</caption>\n",
              "  <tr>\n",
              "    <td>WIDTH</td>\n",
              "    <td>20.87\"</td>\n",
              "  </tr>\n",
              "  <tr>\n",
              "    <td>DEPTH</td>\n",
              "    <td>20.08\"</td>\n",
              "  </tr>\n",
              "  <tr>\n",
              "    <td>HEIGHT</td>\n",
              "    <td>31.50\"</td>\n",
              "  </tr>\n",
              "  <tr>\n",
              "    <td>SEAT HEIGHT</td>\n",
              "    <td>17.32\"</td>\n",
              "  </tr>\n",
              "  <tr>\n",
              "    <td>SEAT DEPTH</td>\n",
              "    <td>16.14\"</td>\n",
              "  </tr>\n",
              "</table>\n",
              "</div>"
            ]
          },
          "metadata": {}
        }
      ]
    },
    {
      "cell_type": "markdown",
      "source": [
        "## Ex 1.\n"
      ],
      "metadata": {
        "id": "Qx1LvgHFAdlS"
      }
    },
    {
      "cell_type": "code",
      "source": [],
      "metadata": {
        "id": "19FpNmEgAjVu"
      },
      "execution_count": null,
      "outputs": []
    }
  ]
}